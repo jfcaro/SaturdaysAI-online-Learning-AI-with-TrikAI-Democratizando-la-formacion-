{
 "cells": [
  {
   "cell_type": "code",
   "execution_count": 1,
   "metadata": {},
   "outputs": [],
   "source": [
    "# Flask forms from https://github.com/greyli/flask-examples"
   ]
  },
  {
   "cell_type": "code",
   "execution_count": 5,
   "metadata": {},
   "outputs": [],
   "source": [
    "from flask_wtf import FlaskForm\n",
    "from wtforms import StringField, PasswordField, BooleanField, IntegerField, TextAreaField, SubmitField, MultipleFileField, SelectField,RadioField\n",
    "from wtforms.validators import DataRequired, Length, ValidationError, Email"
   ]
  },
  {
   "cell_type": "code",
   "execution_count": null,
   "metadata": {},
   "outputs": [],
   "source": [
    "class Video_playlistForm(FlaskForm):\n",
    "    url = StringField ('url')\n",
    "    playlist_type = SelectField(\"Type\", choices =[(\"course\",\"Course\"),(\"documentary\",\"Documentary\"),(\"podcast\",\"Podcast\"),(\"examples\",\"Examples\")],validators=[DataRequired()])\n",
    "    validate = SubmitField('validate')"
   ]
  },
  {
   "cell_type": "code",
   "execution_count": null,
   "metadata": {},
   "outputs": [],
   "source": [
    "class Consult(FlaskForm):\n",
    "    consult = StringField('Consult', validators=[DataRequired(), Length(1, 20000)])\n",
    "    level = SelectField(\"Level\",choices=[(\"C\",\"Both\"),(\"B\",\"Basic\"),(\"A\",\"Advanced\")],validators=[DataRequired()])    \n",
    "    validate = SubmitField('Validate')"
   ]
  }
 ],
 "metadata": {
  "kernelspec": {
   "display_name": "Python 3",
   "language": "python",
   "name": "python3"
  },
  "language_info": {
   "codemirror_mode": {
    "name": "ipython",
    "version": 3
   },
   "file_extension": ".py",
   "mimetype": "text/x-python",
   "name": "python",
   "nbconvert_exporter": "python",
   "pygments_lexer": "ipython3",
   "version": "3.7.9"
  }
 },
 "nbformat": 4,
 "nbformat_minor": 4
}
